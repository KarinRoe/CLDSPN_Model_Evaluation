{
  "nbformat": 4,
  "nbformat_minor": 0,
  "metadata": {
    "colab": {
      "name": "Copy of Hands on Convolutional Neural Networks + Prediction Interpretability.ipynb",
      "version": "0.3.2",
      "provenance": [],
      "collapsed_sections": [],
      "include_colab_link": true
    },
    "kernelspec": {
      "name": "python3",
      "display_name": "Python 3"
    }
  },
  "cells": [
    {
      "cell_type": "markdown",
      "metadata": {
        "id": "view-in-github",
        "colab_type": "text"
      },
      "source": [
        "<a href=\"https://colab.research.google.com/github/KarinRoe/CLDSPN_Model_Evaluation/blob/master/Copy_of_Hands_on_Convolutional_Neural_Networks_%2B_Prediction_Interpretability.ipynb\" target=\"_parent\"><img src=\"https://colab.research.google.com/assets/colab-badge.svg\" alt=\"Open In Colab\"/></a>"
      ]
    },
    {
      "cell_type": "markdown",
      "metadata": {
        "id": "hqDqWvp6i9pq",
        "colab_type": "text"
      },
      "source": [
        "# 🧠🔍 Hands on Convolutional Neural Networks + Prediction Interpretability\n",
        "\n",
        "This notebook will walk you through the process of building a CNN model for predicting [American Sign Language (**ASL**) Guestures](https://en.wikipedia.org/wiki/American_manual_alphabet) using [Keras](https://keras.io/), and then do prediction interpretability using [SHAP](https://github.com/slundberg/shap).\n",
        "\n",
        "See more about the dataset on [Kaggle](https://www.kaggle.com/datamunge/sign-language-mnist)."
      ]
    },
    {
      "cell_type": "markdown",
      "metadata": {
        "id": "dcDTotYUjYWu",
        "colab_type": "text"
      },
      "source": [
        "First we will import our data\n",
        "\n",
        "---\n",
        "**Practicle note ⚡**: becuase we are importing data direct from Cloud Storage into Colab, the data never touches our local computer and is leveraging the super fast  download speeds between Google services.\n",
        "\n",
        "Download the data using the following command:\n",
        "\n",
        "```bash\n",
        "!gsutil cp \"gs://fun-datasets/asl_mnist.csv\" .\n",
        "```"
      ]
    },
    {
      "cell_type": "code",
      "metadata": {
        "id": "fExYs1tTjXLy",
        "colab_type": "code",
        "outputId": "d7034b68-603a-4648-f332-628d857230d7",
        "colab": {
          "base_uri": "https://localhost:8080/",
          "height": 67
        }
      },
      "source": [
        "# [TASK] downlaod data using gsutil \n",
        "!gsutil cp \"gs://fun-datasets/asl_mnist.csv\" . "
      ],
      "execution_count": 0,
      "outputs": [
        {
          "output_type": "stream",
          "text": [
            "Copying gs://fun-datasets/asl_mnist.csv...\n",
            "\\\n",
            "Operation completed over 1 objects/100.2 MiB.                                    \n"
          ],
          "name": "stdout"
        }
      ]
    },
    {
      "cell_type": "markdown",
      "metadata": {
        "id": "3IJGu2nPqmKK",
        "colab_type": "text"
      },
      "source": [
        "Now that the CSV file of our data in donwloaded, we can load it in using [pandas](https://pandas.pydata.org/):\n",
        "\n",
        "```python\n",
        "# this is how you import pandas\n",
        "import pandas as pd\n",
        "\n",
        "# then read in the CSV file \n",
        "data = pd.read_csv(\"FILE NAME OF CSV\")\n",
        "\n",
        "```"
      ]
    },
    {
      "cell_type": "code",
      "metadata": {
        "id": "6D67XpYaqiLq",
        "colab_type": "code",
        "colab": {}
      },
      "source": [
        "# [TASK] import pandas and read in csv \n",
        "\n",
        "import pandas as pd\n",
        "data = pd.read_csv(\"asl_mnist.csv\")\n"
      ],
      "execution_count": 0,
      "outputs": []
    },
    {
      "cell_type": "markdown",
      "metadata": {
        "id": "0eGAVra40aLs",
        "colab_type": "text"
      },
      "source": [
        "### Looking at the data\n",
        "You should have a look at your data:\n",
        "\n",
        " ```python\n",
        "# display the top couple of rows of a pandas dataframe\n",
        "my_data.head()\n",
        " ```"
      ]
    },
    {
      "cell_type": "code",
      "metadata": {
        "id": "vTTmgFyY0zWL",
        "colab_type": "code",
        "outputId": "1d177764-6aca-403c-ec0b-3d4347bb4c58",
        "colab": {
          "base_uri": "https://localhost:8080/",
          "height": 244
        }
      },
      "source": [
        "# [TASK] display the first couple of rows of your data using .head()\n",
        "\n",
        "data.head()\n"
      ],
      "execution_count": 0,
      "outputs": [
        {
          "output_type": "execute_result",
          "data": {
            "text/html": [
              "<div>\n",
              "<style scoped>\n",
              "    .dataframe tbody tr th:only-of-type {\n",
              "        vertical-align: middle;\n",
              "    }\n",
              "\n",
              "    .dataframe tbody tr th {\n",
              "        vertical-align: top;\n",
              "    }\n",
              "\n",
              "    .dataframe thead th {\n",
              "        text-align: right;\n",
              "    }\n",
              "</style>\n",
              "<table border=\"1\" class=\"dataframe\">\n",
              "  <thead>\n",
              "    <tr style=\"text-align: right;\">\n",
              "      <th></th>\n",
              "      <th>label</th>\n",
              "      <th>pixel1</th>\n",
              "      <th>pixel2</th>\n",
              "      <th>pixel3</th>\n",
              "      <th>pixel4</th>\n",
              "      <th>pixel5</th>\n",
              "      <th>pixel6</th>\n",
              "      <th>pixel7</th>\n",
              "      <th>pixel8</th>\n",
              "      <th>pixel9</th>\n",
              "      <th>pixel10</th>\n",
              "      <th>pixel11</th>\n",
              "      <th>pixel12</th>\n",
              "      <th>pixel13</th>\n",
              "      <th>pixel14</th>\n",
              "      <th>pixel15</th>\n",
              "      <th>pixel16</th>\n",
              "      <th>pixel17</th>\n",
              "      <th>pixel18</th>\n",
              "      <th>pixel19</th>\n",
              "      <th>pixel20</th>\n",
              "      <th>pixel21</th>\n",
              "      <th>pixel22</th>\n",
              "      <th>pixel23</th>\n",
              "      <th>pixel24</th>\n",
              "      <th>pixel25</th>\n",
              "      <th>pixel26</th>\n",
              "      <th>pixel27</th>\n",
              "      <th>pixel28</th>\n",
              "      <th>pixel29</th>\n",
              "      <th>pixel30</th>\n",
              "      <th>pixel31</th>\n",
              "      <th>pixel32</th>\n",
              "      <th>pixel33</th>\n",
              "      <th>pixel34</th>\n",
              "      <th>pixel35</th>\n",
              "      <th>pixel36</th>\n",
              "      <th>pixel37</th>\n",
              "      <th>pixel38</th>\n",
              "      <th>pixel39</th>\n",
              "      <th>...</th>\n",
              "      <th>pixel745</th>\n",
              "      <th>pixel746</th>\n",
              "      <th>pixel747</th>\n",
              "      <th>pixel748</th>\n",
              "      <th>pixel749</th>\n",
              "      <th>pixel750</th>\n",
              "      <th>pixel751</th>\n",
              "      <th>pixel752</th>\n",
              "      <th>pixel753</th>\n",
              "      <th>pixel754</th>\n",
              "      <th>pixel755</th>\n",
              "      <th>pixel756</th>\n",
              "      <th>pixel757</th>\n",
              "      <th>pixel758</th>\n",
              "      <th>pixel759</th>\n",
              "      <th>pixel760</th>\n",
              "      <th>pixel761</th>\n",
              "      <th>pixel762</th>\n",
              "      <th>pixel763</th>\n",
              "      <th>pixel764</th>\n",
              "      <th>pixel765</th>\n",
              "      <th>pixel766</th>\n",
              "      <th>pixel767</th>\n",
              "      <th>pixel768</th>\n",
              "      <th>pixel769</th>\n",
              "      <th>pixel770</th>\n",
              "      <th>pixel771</th>\n",
              "      <th>pixel772</th>\n",
              "      <th>pixel773</th>\n",
              "      <th>pixel774</th>\n",
              "      <th>pixel775</th>\n",
              "      <th>pixel776</th>\n",
              "      <th>pixel777</th>\n",
              "      <th>pixel778</th>\n",
              "      <th>pixel779</th>\n",
              "      <th>pixel780</th>\n",
              "      <th>pixel781</th>\n",
              "      <th>pixel782</th>\n",
              "      <th>pixel783</th>\n",
              "      <th>pixel784</th>\n",
              "    </tr>\n",
              "  </thead>\n",
              "  <tbody>\n",
              "    <tr>\n",
              "      <th>0</th>\n",
              "      <td>3</td>\n",
              "      <td>107</td>\n",
              "      <td>118</td>\n",
              "      <td>127</td>\n",
              "      <td>134</td>\n",
              "      <td>139</td>\n",
              "      <td>143</td>\n",
              "      <td>146</td>\n",
              "      <td>150</td>\n",
              "      <td>153</td>\n",
              "      <td>156</td>\n",
              "      <td>158</td>\n",
              "      <td>160</td>\n",
              "      <td>163</td>\n",
              "      <td>165</td>\n",
              "      <td>159</td>\n",
              "      <td>166</td>\n",
              "      <td>168</td>\n",
              "      <td>170</td>\n",
              "      <td>170</td>\n",
              "      <td>171</td>\n",
              "      <td>171</td>\n",
              "      <td>171</td>\n",
              "      <td>172</td>\n",
              "      <td>171</td>\n",
              "      <td>171</td>\n",
              "      <td>170</td>\n",
              "      <td>170</td>\n",
              "      <td>169</td>\n",
              "      <td>111</td>\n",
              "      <td>121</td>\n",
              "      <td>129</td>\n",
              "      <td>135</td>\n",
              "      <td>141</td>\n",
              "      <td>144</td>\n",
              "      <td>148</td>\n",
              "      <td>151</td>\n",
              "      <td>154</td>\n",
              "      <td>157</td>\n",
              "      <td>160</td>\n",
              "      <td>...</td>\n",
              "      <td>205</td>\n",
              "      <td>206</td>\n",
              "      <td>206</td>\n",
              "      <td>207</td>\n",
              "      <td>207</td>\n",
              "      <td>206</td>\n",
              "      <td>206</td>\n",
              "      <td>204</td>\n",
              "      <td>205</td>\n",
              "      <td>204</td>\n",
              "      <td>203</td>\n",
              "      <td>202</td>\n",
              "      <td>142</td>\n",
              "      <td>151</td>\n",
              "      <td>160</td>\n",
              "      <td>172</td>\n",
              "      <td>196</td>\n",
              "      <td>188</td>\n",
              "      <td>188</td>\n",
              "      <td>190</td>\n",
              "      <td>135</td>\n",
              "      <td>96</td>\n",
              "      <td>86</td>\n",
              "      <td>77</td>\n",
              "      <td>77</td>\n",
              "      <td>79</td>\n",
              "      <td>176</td>\n",
              "      <td>205</td>\n",
              "      <td>207</td>\n",
              "      <td>207</td>\n",
              "      <td>207</td>\n",
              "      <td>207</td>\n",
              "      <td>207</td>\n",
              "      <td>207</td>\n",
              "      <td>206</td>\n",
              "      <td>206</td>\n",
              "      <td>206</td>\n",
              "      <td>204</td>\n",
              "      <td>203</td>\n",
              "      <td>202</td>\n",
              "    </tr>\n",
              "    <tr>\n",
              "      <th>1</th>\n",
              "      <td>6</td>\n",
              "      <td>155</td>\n",
              "      <td>157</td>\n",
              "      <td>156</td>\n",
              "      <td>156</td>\n",
              "      <td>156</td>\n",
              "      <td>157</td>\n",
              "      <td>156</td>\n",
              "      <td>158</td>\n",
              "      <td>158</td>\n",
              "      <td>157</td>\n",
              "      <td>158</td>\n",
              "      <td>156</td>\n",
              "      <td>154</td>\n",
              "      <td>154</td>\n",
              "      <td>153</td>\n",
              "      <td>152</td>\n",
              "      <td>151</td>\n",
              "      <td>149</td>\n",
              "      <td>149</td>\n",
              "      <td>148</td>\n",
              "      <td>147</td>\n",
              "      <td>146</td>\n",
              "      <td>144</td>\n",
              "      <td>142</td>\n",
              "      <td>143</td>\n",
              "      <td>138</td>\n",
              "      <td>92</td>\n",
              "      <td>108</td>\n",
              "      <td>158</td>\n",
              "      <td>159</td>\n",
              "      <td>159</td>\n",
              "      <td>159</td>\n",
              "      <td>160</td>\n",
              "      <td>160</td>\n",
              "      <td>160</td>\n",
              "      <td>160</td>\n",
              "      <td>160</td>\n",
              "      <td>160</td>\n",
              "      <td>160</td>\n",
              "      <td>...</td>\n",
              "      <td>100</td>\n",
              "      <td>78</td>\n",
              "      <td>120</td>\n",
              "      <td>157</td>\n",
              "      <td>168</td>\n",
              "      <td>107</td>\n",
              "      <td>99</td>\n",
              "      <td>121</td>\n",
              "      <td>133</td>\n",
              "      <td>97</td>\n",
              "      <td>95</td>\n",
              "      <td>120</td>\n",
              "      <td>135</td>\n",
              "      <td>116</td>\n",
              "      <td>95</td>\n",
              "      <td>79</td>\n",
              "      <td>69</td>\n",
              "      <td>86</td>\n",
              "      <td>139</td>\n",
              "      <td>173</td>\n",
              "      <td>200</td>\n",
              "      <td>185</td>\n",
              "      <td>175</td>\n",
              "      <td>198</td>\n",
              "      <td>124</td>\n",
              "      <td>118</td>\n",
              "      <td>94</td>\n",
              "      <td>140</td>\n",
              "      <td>133</td>\n",
              "      <td>84</td>\n",
              "      <td>69</td>\n",
              "      <td>149</td>\n",
              "      <td>128</td>\n",
              "      <td>87</td>\n",
              "      <td>94</td>\n",
              "      <td>163</td>\n",
              "      <td>175</td>\n",
              "      <td>103</td>\n",
              "      <td>135</td>\n",
              "      <td>149</td>\n",
              "    </tr>\n",
              "    <tr>\n",
              "      <th>2</th>\n",
              "      <td>2</td>\n",
              "      <td>187</td>\n",
              "      <td>188</td>\n",
              "      <td>188</td>\n",
              "      <td>187</td>\n",
              "      <td>187</td>\n",
              "      <td>186</td>\n",
              "      <td>187</td>\n",
              "      <td>188</td>\n",
              "      <td>187</td>\n",
              "      <td>186</td>\n",
              "      <td>185</td>\n",
              "      <td>185</td>\n",
              "      <td>185</td>\n",
              "      <td>184</td>\n",
              "      <td>184</td>\n",
              "      <td>184</td>\n",
              "      <td>181</td>\n",
              "      <td>181</td>\n",
              "      <td>179</td>\n",
              "      <td>179</td>\n",
              "      <td>179</td>\n",
              "      <td>178</td>\n",
              "      <td>178</td>\n",
              "      <td>109</td>\n",
              "      <td>52</td>\n",
              "      <td>66</td>\n",
              "      <td>77</td>\n",
              "      <td>83</td>\n",
              "      <td>188</td>\n",
              "      <td>189</td>\n",
              "      <td>189</td>\n",
              "      <td>188</td>\n",
              "      <td>188</td>\n",
              "      <td>189</td>\n",
              "      <td>188</td>\n",
              "      <td>188</td>\n",
              "      <td>188</td>\n",
              "      <td>188</td>\n",
              "      <td>187</td>\n",
              "      <td>...</td>\n",
              "      <td>203</td>\n",
              "      <td>204</td>\n",
              "      <td>203</td>\n",
              "      <td>201</td>\n",
              "      <td>200</td>\n",
              "      <td>200</td>\n",
              "      <td>199</td>\n",
              "      <td>198</td>\n",
              "      <td>196</td>\n",
              "      <td>195</td>\n",
              "      <td>194</td>\n",
              "      <td>193</td>\n",
              "      <td>198</td>\n",
              "      <td>166</td>\n",
              "      <td>132</td>\n",
              "      <td>114</td>\n",
              "      <td>89</td>\n",
              "      <td>74</td>\n",
              "      <td>79</td>\n",
              "      <td>77</td>\n",
              "      <td>74</td>\n",
              "      <td>78</td>\n",
              "      <td>132</td>\n",
              "      <td>188</td>\n",
              "      <td>210</td>\n",
              "      <td>209</td>\n",
              "      <td>206</td>\n",
              "      <td>205</td>\n",
              "      <td>204</td>\n",
              "      <td>203</td>\n",
              "      <td>202</td>\n",
              "      <td>201</td>\n",
              "      <td>200</td>\n",
              "      <td>199</td>\n",
              "      <td>198</td>\n",
              "      <td>199</td>\n",
              "      <td>198</td>\n",
              "      <td>195</td>\n",
              "      <td>194</td>\n",
              "      <td>195</td>\n",
              "    </tr>\n",
              "    <tr>\n",
              "      <th>3</th>\n",
              "      <td>2</td>\n",
              "      <td>211</td>\n",
              "      <td>211</td>\n",
              "      <td>212</td>\n",
              "      <td>212</td>\n",
              "      <td>211</td>\n",
              "      <td>210</td>\n",
              "      <td>211</td>\n",
              "      <td>210</td>\n",
              "      <td>210</td>\n",
              "      <td>211</td>\n",
              "      <td>209</td>\n",
              "      <td>207</td>\n",
              "      <td>208</td>\n",
              "      <td>207</td>\n",
              "      <td>206</td>\n",
              "      <td>203</td>\n",
              "      <td>202</td>\n",
              "      <td>201</td>\n",
              "      <td>200</td>\n",
              "      <td>198</td>\n",
              "      <td>197</td>\n",
              "      <td>195</td>\n",
              "      <td>192</td>\n",
              "      <td>197</td>\n",
              "      <td>171</td>\n",
              "      <td>51</td>\n",
              "      <td>52</td>\n",
              "      <td>54</td>\n",
              "      <td>212</td>\n",
              "      <td>213</td>\n",
              "      <td>215</td>\n",
              "      <td>215</td>\n",
              "      <td>212</td>\n",
              "      <td>212</td>\n",
              "      <td>213</td>\n",
              "      <td>212</td>\n",
              "      <td>212</td>\n",
              "      <td>211</td>\n",
              "      <td>211</td>\n",
              "      <td>...</td>\n",
              "      <td>247</td>\n",
              "      <td>242</td>\n",
              "      <td>233</td>\n",
              "      <td>231</td>\n",
              "      <td>230</td>\n",
              "      <td>229</td>\n",
              "      <td>227</td>\n",
              "      <td>225</td>\n",
              "      <td>223</td>\n",
              "      <td>221</td>\n",
              "      <td>220</td>\n",
              "      <td>216</td>\n",
              "      <td>58</td>\n",
              "      <td>51</td>\n",
              "      <td>49</td>\n",
              "      <td>50</td>\n",
              "      <td>57</td>\n",
              "      <td>60</td>\n",
              "      <td>17</td>\n",
              "      <td>15</td>\n",
              "      <td>18</td>\n",
              "      <td>17</td>\n",
              "      <td>19</td>\n",
              "      <td>1</td>\n",
              "      <td>159</td>\n",
              "      <td>255</td>\n",
              "      <td>237</td>\n",
              "      <td>239</td>\n",
              "      <td>237</td>\n",
              "      <td>236</td>\n",
              "      <td>235</td>\n",
              "      <td>234</td>\n",
              "      <td>233</td>\n",
              "      <td>231</td>\n",
              "      <td>230</td>\n",
              "      <td>226</td>\n",
              "      <td>225</td>\n",
              "      <td>222</td>\n",
              "      <td>229</td>\n",
              "      <td>163</td>\n",
              "    </tr>\n",
              "    <tr>\n",
              "      <th>4</th>\n",
              "      <td>13</td>\n",
              "      <td>164</td>\n",
              "      <td>167</td>\n",
              "      <td>170</td>\n",
              "      <td>172</td>\n",
              "      <td>176</td>\n",
              "      <td>179</td>\n",
              "      <td>180</td>\n",
              "      <td>184</td>\n",
              "      <td>185</td>\n",
              "      <td>186</td>\n",
              "      <td>188</td>\n",
              "      <td>189</td>\n",
              "      <td>189</td>\n",
              "      <td>190</td>\n",
              "      <td>191</td>\n",
              "      <td>189</td>\n",
              "      <td>190</td>\n",
              "      <td>190</td>\n",
              "      <td>187</td>\n",
              "      <td>190</td>\n",
              "      <td>192</td>\n",
              "      <td>193</td>\n",
              "      <td>191</td>\n",
              "      <td>191</td>\n",
              "      <td>192</td>\n",
              "      <td>192</td>\n",
              "      <td>194</td>\n",
              "      <td>194</td>\n",
              "      <td>166</td>\n",
              "      <td>169</td>\n",
              "      <td>172</td>\n",
              "      <td>174</td>\n",
              "      <td>177</td>\n",
              "      <td>180</td>\n",
              "      <td>182</td>\n",
              "      <td>185</td>\n",
              "      <td>186</td>\n",
              "      <td>187</td>\n",
              "      <td>190</td>\n",
              "      <td>...</td>\n",
              "      <td>90</td>\n",
              "      <td>77</td>\n",
              "      <td>88</td>\n",
              "      <td>117</td>\n",
              "      <td>123</td>\n",
              "      <td>127</td>\n",
              "      <td>129</td>\n",
              "      <td>134</td>\n",
              "      <td>145</td>\n",
              "      <td>152</td>\n",
              "      <td>156</td>\n",
              "      <td>179</td>\n",
              "      <td>105</td>\n",
              "      <td>106</td>\n",
              "      <td>105</td>\n",
              "      <td>104</td>\n",
              "      <td>104</td>\n",
              "      <td>104</td>\n",
              "      <td>175</td>\n",
              "      <td>199</td>\n",
              "      <td>178</td>\n",
              "      <td>152</td>\n",
              "      <td>136</td>\n",
              "      <td>130</td>\n",
              "      <td>136</td>\n",
              "      <td>150</td>\n",
              "      <td>118</td>\n",
              "      <td>92</td>\n",
              "      <td>85</td>\n",
              "      <td>76</td>\n",
              "      <td>92</td>\n",
              "      <td>105</td>\n",
              "      <td>105</td>\n",
              "      <td>108</td>\n",
              "      <td>133</td>\n",
              "      <td>163</td>\n",
              "      <td>157</td>\n",
              "      <td>163</td>\n",
              "      <td>164</td>\n",
              "      <td>179</td>\n",
              "    </tr>\n",
              "  </tbody>\n",
              "</table>\n",
              "<p>5 rows × 785 columns</p>\n",
              "</div>"
            ],
            "text/plain": [
              "   label  pixel1  pixel2  pixel3  ...  pixel781  pixel782  pixel783  pixel784\n",
              "0      3     107     118     127  ...       206       204       203       202\n",
              "1      6     155     157     156  ...       175       103       135       149\n",
              "2      2     187     188     188  ...       198       195       194       195\n",
              "3      2     211     211     212  ...       225       222       229       163\n",
              "4     13     164     167     170  ...       157       163       164       179\n",
              "\n",
              "[5 rows x 785 columns]"
            ]
          },
          "metadata": {
            "tags": []
          },
          "execution_count": 9
        }
      ]
    },
    {
      "cell_type": "markdown",
      "metadata": {
        "id": "y-R8FZGJ7Zgh",
        "colab_type": "text"
      },
      "source": [
        "## Let's split out data into our inputs (images) and our outputs (ASL labels)\n",
        "\n",
        "```python\n",
        "# assign the label column to a varible y\n",
        "y = data['label'].values\n",
        "\n",
        "# assign the rest to a varible X\n",
        "X = data.drop('label', axis = 1).values / 255.\n",
        "```"
      ]
    },
    {
      "cell_type": "code",
      "metadata": {
        "id": "QOq0Y8xd8dq9",
        "colab_type": "code",
        "colab": {}
      },
      "source": [
        "# [TASK] split your data into X (inputs) and y (outputs)\n",
        "\n",
        "y = data[\"label\"].values\n",
        "\n",
        "X = data.drop(\"label\", axis = 1).values / 255. # scale data down to be betweeen 0 and 1\n"
      ],
      "execution_count": 0,
      "outputs": []
    },
    {
      "cell_type": "markdown",
      "metadata": {
        "id": "xm5FFRrT8vVh",
        "colab_type": "text"
      },
      "source": [
        "## Let's actually look at one of these images\n",
        "Print out the first image:\n",
        "```python\n",
        "print(X[0])\n",
        "```\n",
        "#### WHAT DO YOU EXPECT TO SEE?\n"
      ]
    },
    {
      "cell_type": "code",
      "metadata": {
        "id": "QyJqQxq18o9l",
        "colab_type": "code",
        "outputId": "d404ee65-34dc-46c5-f781-3beeb604870f",
        "colab": {
          "base_uri": "https://localhost:8080/",
          "height": 1000
        }
      },
      "source": [
        "# [TASK] print the first image (what do you expect)\n",
        "print(X[0])\n",
        "\n"
      ],
      "execution_count": 0,
      "outputs": [
        {
          "output_type": "stream",
          "text": [
            "[0.41960784 0.4627451  0.49803922 0.5254902  0.54509804 0.56078431\n",
            " 0.57254902 0.58823529 0.6        0.61176471 0.61960784 0.62745098\n",
            " 0.63921569 0.64705882 0.62352941 0.65098039 0.65882353 0.66666667\n",
            " 0.66666667 0.67058824 0.67058824 0.67058824 0.6745098  0.67058824\n",
            " 0.67058824 0.66666667 0.66666667 0.6627451  0.43529412 0.4745098\n",
            " 0.50588235 0.52941176 0.55294118 0.56470588 0.58039216 0.59215686\n",
            " 0.60392157 0.61568627 0.62745098 0.63921569 0.64313725 0.66666667\n",
            " 0.46666667 0.59607843 0.67058824 0.67058824 0.66666667 0.67058824\n",
            " 0.6745098  0.6745098  0.6745098  0.6745098  0.6745098  0.67058824\n",
            " 0.67058824 0.66666667 0.44313725 0.48235294 0.51372549 0.5372549\n",
            " 0.55686275 0.56862745 0.58823529 0.59607843 0.60784314 0.61960784\n",
            " 0.63137255 0.63921569 0.64313725 0.6745098  0.41176471 0.55686275\n",
            " 0.66666667 0.67058824 0.67058824 0.67058824 0.6745098  0.6745098\n",
            " 0.67843137 0.67843137 0.6745098  0.67058824 0.67058824 0.67058824\n",
            " 0.45490196 0.49019608 0.52156863 0.54509804 0.56078431 0.57254902\n",
            " 0.59215686 0.6        0.61176471 0.62352941 0.63529412 0.63921569\n",
            " 0.65490196 0.65490196 0.37254902 0.56470588 0.67058824 0.6745098\n",
            " 0.6745098  0.6745098  0.6745098  0.6745098  0.67843137 0.67843137\n",
            " 0.67843137 0.6745098  0.6745098  0.67058824 0.45882353 0.49411765\n",
            " 0.5254902  0.54901961 0.56862745 0.58431373 0.6        0.61176471\n",
            " 0.61960784 0.63137255 0.63921569 0.64313725 0.68627451 0.61176471\n",
            " 0.34117647 0.60392157 0.6745098  0.67843137 0.67843137 0.67843137\n",
            " 0.67843137 0.67843137 0.68235294 0.68235294 0.68235294 0.67843137\n",
            " 0.6745098  0.6745098  0.46666667 0.50196078 0.53333333 0.55686275\n",
            " 0.57254902 0.58823529 0.6        0.61176471 0.62352941 0.63921569\n",
            " 0.64705882 0.64313725 0.72156863 0.58039216 0.34901961 0.64313725\n",
            " 0.6745098  0.68235294 0.68235294 0.68235294 0.68235294 0.68627451\n",
            " 0.68627451 0.68235294 0.68627451 0.68235294 0.67843137 0.67843137\n",
            " 0.47843137 0.50980392 0.54117647 0.56078431 0.57647059 0.58823529\n",
            " 0.60392157 0.61960784 0.63529412 0.64705882 0.65098039 0.6745098\n",
            " 0.70980392 0.50196078 0.36862745 0.66666667 0.67843137 0.68627451\n",
            " 0.68235294 0.68627451 0.69019608 0.69411765 0.69411765 0.69411765\n",
            " 0.69411765 0.68627451 0.68627451 0.68235294 0.47843137 0.51764706\n",
            " 0.54509804 0.56862745 0.58431373 0.59607843 0.61176471 0.62745098\n",
            " 0.63921569 0.64705882 0.65098039 0.70980392 0.6745098  0.40392157\n",
            " 0.44313725 0.68627451 0.69019608 0.69803922 0.69803922 0.70196078\n",
            " 0.70196078 0.70196078 0.70196078 0.69803922 0.70196078 0.69411765\n",
            " 0.68627451 0.68235294 0.49019608 0.5254902  0.55294118 0.57647059\n",
            " 0.58823529 0.6        0.61568627 0.63137255 0.64313725 0.65490196\n",
            " 0.65882353 0.72156863 0.70196078 0.45490196 0.49411765 0.64705882\n",
            " 0.69019608 0.70196078 0.70588235 0.70588235 0.70980392 0.70588235\n",
            " 0.70588235 0.70588235 0.70196078 0.69803922 0.69411765 0.69019608\n",
            " 0.50196078 0.52941176 0.55686275 0.58039216 0.59607843 0.60392157\n",
            " 0.61960784 0.63529412 0.64705882 0.65882353 0.66666667 0.73333333\n",
            " 0.70588235 0.61176471 0.63137255 0.48627451 0.56078431 0.70196078\n",
            " 0.69803922 0.69803922 0.70980392 0.71372549 0.70980392 0.70588235\n",
            " 0.70980392 0.70588235 0.70196078 0.70196078 0.50588235 0.53333333\n",
            " 0.56470588 0.58823529 0.6        0.60784314 0.62352941 0.63921569\n",
            " 0.65098039 0.6627451  0.6745098  0.73333333 0.72156863 0.6\n",
            " 0.4        0.45882353 0.43137255 0.68627451 0.6627451  0.60392157\n",
            " 0.71372549 0.71764706 0.71764706 0.71372549 0.71372549 0.70980392\n",
            " 0.70980392 0.70196078 0.51372549 0.54117647 0.56862745 0.58823529\n",
            " 0.60784314 0.61568627 0.63137255 0.64705882 0.65882353 0.68235294\n",
            " 0.74509804 0.74117647 0.68627451 0.57254902 0.36862745 0.38039216\n",
            " 0.44313725 0.59215686 0.61960784 0.50588235 0.72156863 0.72156863\n",
            " 0.72156863 0.72156863 0.71764706 0.71764706 0.71372549 0.70588235\n",
            " 0.51372549 0.54509804 0.57254902 0.59215686 0.60784314 0.62352941\n",
            " 0.63921569 0.65490196 0.68627451 0.71372549 0.70196078 0.67058824\n",
            " 0.62352941 0.44705882 0.4        0.34901961 0.4745098  0.53333333\n",
            " 0.53333333 0.37647059 0.6745098  0.72941176 0.72941176 0.7254902\n",
            " 0.7254902  0.72156863 0.71372549 0.70980392 0.51372549 0.54901961\n",
            " 0.57647059 0.60392157 0.61568627 0.62745098 0.64313725 0.70196078\n",
            " 0.72941176 0.74901961 0.73333333 0.70588235 0.61568627 0.39215686\n",
            " 0.34509804 0.32941176 0.42352941 0.43529412 0.49411765 0.35294118\n",
            " 0.47058824 0.72941176 0.73333333 0.73333333 0.72941176 0.7254902\n",
            " 0.72156863 0.71372549 0.52156863 0.55294118 0.58431373 0.60784314\n",
            " 0.61960784 0.62745098 0.68235294 0.78823529 0.74117647 0.64705882\n",
            " 0.59215686 0.56078431 0.57254902 0.47058824 0.34117647 0.30588235\n",
            " 0.34117647 0.29803922 0.42352941 0.38431373 0.37647059 0.70980392\n",
            " 0.7372549  0.73333333 0.72941176 0.72941176 0.7254902  0.71764706\n",
            " 0.52156863 0.55294118 0.58823529 0.61176471 0.62745098 0.63137255\n",
            " 0.70196078 0.77254902 0.68235294 0.52941176 0.38823529 0.28235294\n",
            " 0.37254902 0.5254902  0.38039216 0.28235294 0.29019608 0.26666667\n",
            " 0.45490196 0.41176471 0.42352941 0.73333333 0.74117647 0.73333333\n",
            " 0.73333333 0.72941176 0.72941176 0.7254902  0.5254902  0.56078431\n",
            " 0.59215686 0.61176471 0.63137255 0.63921569 0.70196078 0.76078431\n",
            " 0.61176471 0.43137255 0.29019608 0.16470588 0.20392157 0.54509804\n",
            " 0.36862745 0.2627451  0.29411765 0.29411765 0.4627451  0.41568627\n",
            " 0.50588235 0.74117647 0.74901961 0.74509804 0.7372549  0.7372549\n",
            " 0.73333333 0.72941176 0.52941176 0.56470588 0.59607843 0.61960784\n",
            " 0.63921569 0.63921569 0.69411765 0.75686275 0.63137255 0.47843137\n",
            " 0.32941176 0.16862745 0.27843137 0.5254902  0.31764706 0.22352941\n",
            " 0.27843137 0.34509804 0.43921569 0.38431373 0.61568627 0.75686275\n",
            " 0.75686275 0.75294118 0.74509804 0.74509804 0.74117647 0.7372549\n",
            " 0.53333333 0.56470588 0.59607843 0.61960784 0.63529412 0.63921569\n",
            " 0.69019608 0.75294118 0.64313725 0.50196078 0.38431373 0.24313725\n",
            " 0.23529412 0.39215686 0.27843137 0.29803922 0.37647059 0.39607843\n",
            " 0.41176471 0.37254902 0.68235294 0.76470588 0.76078431 0.76078431\n",
            " 0.76078431 0.75686275 0.74901961 0.74509804 0.5372549  0.56862745\n",
            " 0.59607843 0.62352941 0.64313725 0.64705882 0.69803922 0.74901961\n",
            " 0.64313725 0.52941176 0.44313725 0.32156863 0.23137255 0.34117647\n",
            " 0.38431373 0.43529412 0.47058824 0.42352941 0.38039216 0.42352941\n",
            " 0.74509804 0.76862745 0.76470588 0.76470588 0.76078431 0.75686275\n",
            " 0.75686275 0.75294118 0.54509804 0.57254902 0.60392157 0.62745098\n",
            " 0.64313725 0.64705882 0.68627451 0.72941176 0.63921569 0.54509804\n",
            " 0.43921569 0.33333333 0.2627451  0.4        0.49411765 0.52156863\n",
            " 0.49411765 0.41176471 0.40784314 0.69019608 0.77254902 0.77647059\n",
            " 0.77254902 0.76862745 0.76470588 0.76470588 0.76078431 0.75686275\n",
            " 0.54117647 0.57647059 0.60784314 0.63137255 0.64705882 0.65490196\n",
            " 0.6745098  0.72941176 0.63921569 0.5372549  0.41960784 0.34117647\n",
            " 0.29803922 0.41568627 0.47843137 0.49019608 0.45882353 0.37647059\n",
            " 0.61176471 0.78039216 0.78039216 0.78431373 0.77647059 0.76862745\n",
            " 0.76862745 0.76470588 0.76470588 0.76078431 0.54509804 0.58039216\n",
            " 0.61176471 0.63921569 0.65098039 0.65882353 0.6745098  0.70588235\n",
            " 0.61960784 0.51372549 0.42352941 0.38823529 0.3372549  0.42352941\n",
            " 0.4627451  0.45490196 0.40392157 0.41960784 0.74901961 0.79215686\n",
            " 0.78823529 0.78431373 0.78431373 0.78431373 0.78039216 0.77254902\n",
            " 0.77647059 0.76862745 0.54901961 0.58431373 0.61568627 0.64313725\n",
            " 0.65882353 0.65490196 0.69411765 0.69803922 0.60784314 0.51372549\n",
            " 0.4627451  0.41176471 0.34117647 0.39215686 0.41568627 0.39215686\n",
            " 0.37647059 0.64313725 0.79215686 0.79215686 0.79215686 0.79215686\n",
            " 0.79215686 0.78823529 0.78431373 0.78039216 0.78039216 0.77647059\n",
            " 0.54901961 0.58823529 0.61568627 0.64705882 0.65490196 0.66666667\n",
            " 0.70980392 0.68627451 0.59607843 0.50980392 0.45098039 0.38431373\n",
            " 0.32156863 0.33333333 0.35294118 0.38823529 0.64705882 0.79215686\n",
            " 0.79607843 0.8        0.79607843 0.79607843 0.79215686 0.79215686\n",
            " 0.78823529 0.78823529 0.78431373 0.78431373 0.55686275 0.58823529\n",
            " 0.62352941 0.64705882 0.66666667 0.74901961 0.67843137 0.61568627\n",
            " 0.56470588 0.46666667 0.38039216 0.32941176 0.30980392 0.30980392\n",
            " 0.35686275 0.6745098  0.79215686 0.79607843 0.79607843 0.80392157\n",
            " 0.8        0.8        0.8        0.79607843 0.79215686 0.79215686\n",
            " 0.78823529 0.78431373 0.55686275 0.59215686 0.62745098 0.64705882\n",
            " 0.7372549  0.74509804 0.73333333 0.58823529 0.46666667 0.42745098\n",
            " 0.33333333 0.30980392 0.30980392 0.30588235 0.5372549  0.79607843\n",
            " 0.80392157 0.80784314 0.80784314 0.81176471 0.81176471 0.80784314\n",
            " 0.80784314 0.8        0.80392157 0.8        0.79607843 0.79215686\n",
            " 0.55686275 0.59215686 0.62745098 0.6745098  0.76862745 0.7372549\n",
            " 0.7372549  0.74509804 0.52941176 0.37647059 0.3372549  0.30196078\n",
            " 0.30196078 0.30980392 0.69019608 0.80392157 0.81176471 0.81176471\n",
            " 0.81176471 0.81176471 0.81176471 0.81176471 0.80784314 0.80784314\n",
            " 0.80784314 0.8        0.79607843 0.79215686]\n"
          ],
          "name": "stdout"
        }
      ]
    },
    {
      "cell_type": "markdown",
      "metadata": {
        "id": "07rSiCos1Zq1",
        "colab_type": "text"
      },
      "source": [
        "## Where's our image!? 😡\n",
        "\n",
        "So we tried to print our image but got a long list of numbers, WTF?\n",
        "\n",
        "Well this is becuase it's easy to store pixel lists in CSV files. \n",
        "\n",
        "What we have todo is reshape the list into a matrix (image shape), then we can view it like a normal image. \n",
        "\n",
        "Todo that we need to know the original dimensions of the image.... it's **`28x28`** (you're welcome 😉)\n",
        "\n",
        "There is a handy function in [numpy](https://www.numpy.org/) that will do this \"reshaping\" for us:\n",
        "\n",
        "\n",
        "![alt text](https://storage.googleapis.com/random-assets/images/reshape.png)\n",
        "\n",
        "\n",
        "So let's reshape the first image again, then display it using [matplotlib](https://matplotlib.org/):\n",
        "\n",
        "```python\n",
        "#import numpy\n",
        "import numpy as np\n",
        "\n",
        "# import matplotlib\n",
        "import matplotlib.pyplot as plt\n",
        "\n",
        "# reshape image\n",
        "img = np.reshape(X[0], (original image height, original image width))\n",
        "\n",
        "# display image\n",
        "plt.imshow(img)\n",
        "```\n",
        "\n",
        "\n"
      ]
    },
    {
      "cell_type": "code",
      "metadata": {
        "id": "1yxoVyasGM_O",
        "colab_type": "code",
        "outputId": "76cf1d90-168b-45c2-efb7-0b1b9c5703eb",
        "colab": {
          "base_uri": "https://localhost:8080/",
          "height": 286
        }
      },
      "source": [
        "#[TASK] display the first image propery\n",
        "import numpy as np\n",
        "import matplotlib.pyplot as plt\n",
        "\n",
        "img = np.reshape(X[0], (28, 28))\n",
        "\n",
        "plt.imshow(img)\n",
        "\n",
        "\n",
        "\n",
        "\n",
        "\n",
        "\n",
        "\n",
        "\n"
      ],
      "execution_count": 0,
      "outputs": [
        {
          "output_type": "execute_result",
          "data": {
            "text/plain": [
              "<matplotlib.image.AxesImage at 0x7fa764c04f28>"
            ]
          },
          "metadata": {
            "tags": []
          },
          "execution_count": 39
        },
        {
          "output_type": "display_data",
          "data": {
            "image/png": "[encoded data removed]",
            "text/plain": [
              "<Figure size 432x288 with 1 Axes>"
            ]
          },
          "metadata": {
            "tags": []
          }
        }
      ]
    },
    {
      "cell_type": "markdown",
      "metadata": {
        "id": "o4E2JpqtG1c4",
        "colab_type": "text"
      },
      "source": [
        "OK assuming you've displayed one image correctly lets look at a couple of images:\n",
        "\n",
        "Run the following code to see the first 5 images:"
      ]
    },
    {
      "cell_type": "code",
      "metadata": {
        "id": "7SDZyv5kHA_J",
        "colab_type": "code",
        "outputId": "1464b8fa-f761-41bd-f36b-ba8d5306c471",
        "colab": {
          "base_uri": "https://localhost:8080/",
          "height": 1000
        }
      },
      "source": [
        "# display the first 5 images\n",
        "\n",
        "# loop 5 times\n",
        "for i in range(5):\n",
        "  # reshape image\n",
        "  img = np.reshape(X[i], (28, 28))\n",
        "  # display image\n",
        "  plt.imshow(img)\n",
        "  plt.show()"
      ],
      "execution_count": 0,
      "outputs": [
        {
          "output_type": "display_data",
          "data": {
            "image/png": "[encoded data removed]",
            "text/plain": [
              "<Figure size 432x288 with 1 Axes>"
            ]
          },
          "metadata": {
            "tags": []
          }
        },
        {
          "output_type": "display_data",
          "data": {
            "image/png": "[encoded data removed]",
            "text/plain": [
              "<Figure size 432x288 with 1 Axes>"
            ]
          },
          "metadata": {
            "tags": []
          }
        },
        {
          "output_type": "display_data",
          "data": {
            "image/png": "[encoded data removed]",
            "text/plain": [
              "<Figure size 432x288 with 1 Axes>"
            ]
          },
          "metadata": {
            "tags": []
          }
        },
        {
          "output_type": "display_data",
          "data": {
            "image/png": "[encoded data removed]",
            "text/plain": [
              "<Figure size 432x288 with 1 Axes>"
            ]
          },
          "metadata": {
            "tags": []
          }
        },
        {
          "output_type": "display_data",
          "data": {
            "image/png": "[encoded data removed]",
            "text/plain": [
              "<Figure size 432x288 with 1 Axes>"
            ]
          },
          "metadata": {
            "tags": []
          }
        }
      ]
    },
    {
      "cell_type": "markdown",
      "metadata": {
        "id": "-o82mbHWHg48",
        "colab_type": "text"
      },
      "source": [
        "Cool! We can see the images, but what do they mean??\n",
        "\n",
        "Let's display them along side their labels:"
      ]
    },
    {
      "cell_type": "code",
      "metadata": {
        "id": "Ob-7i95_HrRC",
        "colab_type": "code",
        "outputId": "07fd30fe-1d73-4693-8671-c27e468829d5",
        "colab": {
          "base_uri": "https://localhost:8080/",
          "height": 1000
        }
      },
      "source": [
        "# display the first 5 images with their labels\n",
        "\n",
        "for i in range(5):\n",
        "\n",
        "  # display label\n",
        "  print(y[i])\n",
        "\n",
        "  img = np.reshape(X[i], (28, 28))\n",
        "  plt.imshow(img)\n",
        "  plt.show()"
      ],
      "execution_count": 0,
      "outputs": [
        {
          "output_type": "stream",
          "text": [
            "3\n"
          ],
          "name": "stdout"
        },
        {
          "output_type": "display_data",
          "data": {
            "image/png": "[encoded data removed]",
            "text/plain": [
              "<Figure size 432x288 with 1 Axes>"
            ]
          },
          "metadata": {
            "tags": []
          }
        },
        {
          "output_type": "stream",
          "text": [
            "6\n"
          ],
          "name": "stdout"
        },
        {
          "output_type": "display_data",
          "data": {
            "image/png": "[encoded data removed]",
            "text/plain": [
              "<Figure size 432x288 with 1 Axes>"
            ]
          },
          "metadata": {
            "tags": []
          }
        },
        {
          "output_type": "stream",
          "text": [
            "2\n"
          ],
          "name": "stdout"
        },
        {
          "output_type": "display_data",
          "data": {
            "image/png": "[encoded data removed]",
            "text/plain": [
              "<Figure size 432x288 with 1 Axes>"
            ]
          },
          "metadata": {
            "tags": []
          }
        },
        {
          "output_type": "stream",
          "text": [
            "2\n"
          ],
          "name": "stdout"
        },
        {
          "output_type": "display_data",
          "data": {
            "image/png": "[encoded data removed]",
            "text/plain": [
              "<Figure size 432x288 with 1 Axes>"
            ]
          },
          "metadata": {
            "tags": []
          }
        },
        {
          "output_type": "stream",
          "text": [
            "13\n"
          ],
          "name": "stdout"
        },
        {
          "output_type": "display_data",
          "data": {
            "image/png": "[encoded data removed]",
            "text/plain": [
              "<Figure size 432x288 with 1 Axes>"
            ]
          },
          "metadata": {
            "tags": []
          }
        }
      ]
    },
    {
      "cell_type": "markdown",
      "metadata": {
        "id": "ERnOgV6HICP6",
        "colab_type": "text"
      },
      "source": [
        "Ok so are labels are **numbers**, not **letters**? 😕\n",
        "\n",
        "I want to see something like this:\n",
        "\n",
        "![alt text](https://storage.googleapis.com/random-assets/images/asl.png)\n",
        "\n",
        "So we will have to convert our numbers to letters:\n",
        "\n",
        "I've created a handy function to do just that below:"
      ]
    },
    {
      "cell_type": "code",
      "metadata": {
        "id": "1g9_4cq-KDJK",
        "colab_type": "code",
        "outputId": "1f2916b0-2cb1-4d4b-a277-9628b19a544f",
        "colab": {
          "base_uri": "https://localhost:8080/",
          "height": 1000
        }
      },
      "source": [
        "#  display first 5 images with the letters they represent:\n",
        "\n",
        "# create function to convert number to letter\n",
        "def number_to_letter(number):\n",
        "  return chr(number+65)\n",
        "\n",
        "for i in range(5):\n",
        "  \n",
        "  # display (letter) label\n",
        "  print(number_to_letter(y[i]))\n",
        "\n",
        "  img = np.reshape(X[i], (28, 28))\n",
        "  plt.imshow(img)\n",
        "  plt.show()"
      ],
      "execution_count": 0,
      "outputs": [
        {
          "output_type": "stream",
          "text": [
            "D\n"
          ],
          "name": "stdout"
        },
        {
          "output_type": "display_data",
          "data": {
            "image/png": "[encoded data removed]",
            "text/plain": [
              "<Figure size 432x288 with 1 Axes>"
            ]
          },
          "metadata": {
            "tags": []
          }
        },
        {
          "output_type": "stream",
          "text": [
            "G\n"
          ],
          "name": "stdout"
        },
        {
          "output_type": "display_data",
          "data": {
            "image/png": "[encoded data removed]",
            "text/plain": [
              "<Figure size 432x288 with 1 Axes>"
            ]
          },
          "metadata": {
            "tags": []
          }
        },
        {
          "output_type": "stream",
          "text": [
            "C\n"
          ],
          "name": "stdout"
        },
        {
          "output_type": "display_data",
          "data": {
            "image/png": "[encoded data removed]",
            "text/plain": [
              "<Figure size 432x288 with 1 Axes>"
            ]
          },
          "metadata": {
            "tags": []
          }
        },
        {
          "output_type": "stream",
          "text": [
            "C\n"
          ],
          "name": "stdout"
        },
        {
          "output_type": "display_data",
          "data": {
            "image/png": "[encoded data removed]",
            "text/plain": [
              "<Figure size 432x288 with 1 Axes>"
            ]
          },
          "metadata": {
            "tags": []
          }
        },
        {
          "output_type": "stream",
          "text": [
            "N\n"
          ],
          "name": "stdout"
        },
        {
          "output_type": "display_data",
          "data": {
            "image/png": "[encoded data removed]",
            "text/plain": [
              "<Figure size 432x288 with 1 Axes>"
            ]
          },
          "metadata": {
            "tags": []
          }
        }
      ]
    },
    {
      "cell_type": "markdown",
      "metadata": {
        "id": "9DV7tNadKhRE",
        "colab_type": "text"
      },
      "source": [
        "Use this chart to see if they are correct:\n",
        "\n",
        "![alt text](https://storage.googleapis.com/random-assets/images/american_sign_language.PNG)\n",
        "\n",
        "They are? yes? cool, we can proceed..."
      ]
    },
    {
      "cell_type": "markdown",
      "metadata": {
        "id": "CDTluA2KLCC-",
        "colab_type": "text"
      },
      "source": [
        "## Train/Test spliting our data\n",
        "Like students being testing in a class room, if you give them the same test twise they'll just need to memorise the answers without actually learning the underlying consept. Thus when then they enter the real world and are faced with unseen problem, they will have no clue. \n",
        "\n",
        "So we will split our data into **training** data which the CNN will get to see and learning from, and **testing** data that it dosn't get to see during training, but we will use to make sure the CNN is actually learning.\n",
        "\n",
        "We can use the [train_test_split](https://scikit-learn.org/stable/modules/generated/sklearn.model_selection.train_test_split.html) module from [sklearn](https://scikit-learn.org) to do this for us:\n",
        "\n",
        "```python\n",
        "# import module \n",
        "from sklearn.model_selection import train_test_split\n",
        "\n",
        "# while we are here, let's reshape all of our images at once\n",
        "X_reshaped = np.reshape(X, (len(X), original image height, original image width, 1))\n",
        "\n",
        "# split our data\n",
        "X_train, X_test, y_train, y_test = train_test_split(\n",
        "    X_reshaped, y, test_size=0.20, random_state=42)\n",
        "```"
      ]
    },
    {
      "cell_type": "code",
      "metadata": {
        "id": "t5Iu7twHNYHz",
        "colab_type": "code",
        "outputId": "b05c760a-2e5c-4943-ac32-cfd8cd6466c2",
        "colab": {
          "base_uri": "https://localhost:8080/",
          "height": 34
        }
      },
      "source": [
        "# [TASK] import the module, reshape all of the images, perform the train/test split\n",
        "\n",
        "from sklearn.model_selection import train_test_split\n",
        "\n",
        "X_reshaped = np.reshape(X, (len(X), 28, 28, 1))\n",
        "print(X_reshaped.shape)\n",
        "\n",
        "X_train, X_test, y_train, y_test = train_test_split(X_reshaped, y, test_size = 0.20, random_state = 42)\n",
        "\n",
        "\n",
        "\n",
        "\n"
      ],
      "execution_count": 0,
      "outputs": [
        {
          "output_type": "stream",
          "text": [
            "(34627, 28, 28, 1)\n"
          ],
          "name": "stdout"
        }
      ]
    },
    {
      "cell_type": "markdown",
      "metadata": {
        "id": "ldckCf0GOQWg",
        "colab_type": "text"
      },
      "source": [
        "Let's have a peek at the dimensions (shape) of our data:"
      ]
    },
    {
      "cell_type": "code",
      "metadata": {
        "id": "96L5JrOoNqKp",
        "colab_type": "code",
        "outputId": "82576a8e-af81-48a7-bcbe-99fa31fa4c95",
        "colab": {
          "base_uri": "https://localhost:8080/",
          "height": 84
        }
      },
      "source": [
        "# let's quickly check the dimensions of our data\n",
        "print(\"training input data - \", x_train.shape)\n",
        "print(\"testing input data - \", x_test.shape)\n",
        "\n",
        "print(\"training output data - \", y_train.shape)\n",
        "print(\"testing output data - \", y_test.shape)"
      ],
      "execution_count": 0,
      "outputs": [
        {
          "output_type": "stream",
          "text": [
            "training input data -  (27701, 28, 28, 1)\n",
            "testing input data -  (6926, 28, 28, 1)\n",
            "training output data -  (27701,)\n",
            "testing output data -  (6926,)\n"
          ],
          "name": "stdout"
        }
      ]
    },
    {
      "cell_type": "markdown",
      "metadata": {
        "id": "LYJMWJ1VOsZA",
        "colab_type": "text"
      },
      "source": [
        "## Hold the phone! What does our output data look like?\n",
        "\n",
        "Print out the first 10 outputs:\n",
        "\n",
        "```python\n",
        "print(y_train[:10])\n",
        "```\n"
      ]
    },
    {
      "cell_type": "code",
      "metadata": {
        "id": "TGdbUae6O-sW",
        "colab_type": "code",
        "outputId": "d674ec7c-f4aa-4796-8cae-508da026687e",
        "colab": {
          "base_uri": "https://localhost:8080/",
          "height": 34
        }
      },
      "source": [
        "# [TASK] print out the first 10 outputs\n",
        "\n",
        "print(y_train[:10])\n",
        "\n"
      ],
      "execution_count": 0,
      "outputs": [
        {
          "output_type": "stream",
          "text": [
            "[ 6  2 14  5 16  7 24 10 21  3]\n"
          ],
          "name": "stdout"
        }
      ]
    },
    {
      "cell_type": "markdown",
      "metadata": {
        "id": "Ui0QE2zUPFd8",
        "colab_type": "text"
      },
      "source": [
        "### Hmmmmmm, we have an issue with this:\n",
        "<img height=300px src=\"https://storage.googleapis.com/random-assets/images/not_impressed_doggo.jpg\">\n",
        "\n",
        "Although we did agree that it's fine that our labels are numbers (becuase we can easily convert them to the ASL letters), our Convolutional Neural Network agreed to no such thing! In fact our CNN is alot more picky, it wants them as a [One-hot-encoded](https://hackernoon.com/what-is-one-hot-encoding-why-and-when-do-you-have-to-use-it-e3c6186d008f) matrix!!!\n",
        "\n",
        "It's all becuase of the structure of the CNN! Specifically the last layer, which is a singel node for each possible label (every letter of the alphabet in this case):\n",
        "\n",
        "![alt text](https://storage.googleapis.com/random-assets/images/one_hot_cnn.png)\n",
        "\n",
        "So let's quickly convert our number labels to the right format for the CNN (One-hot-encoded):"
      ]
    },
    {
      "cell_type": "code",
      "metadata": {
        "id": "H_PP0-9zTyb3",
        "colab_type": "code",
        "outputId": "af64c214-0a94-4f4f-e4a4-25d84850fe53",
        "colab": {
          "base_uri": "https://localhost:8080/",
          "height": 34
        }
      },
      "source": [
        "# convert our output numbers to the one-hot-encoded version\n",
        "import keras\n",
        "\n",
        "# get our data again\n",
        "X_train, X_test, y_train, y_test = train_test_split(\n",
        "    X_reshaped, y, test_size=0.20, random_state=42)\n",
        "\n",
        "# encode the outputs (y's) as one-hot\n",
        "y_train = keras.utils.to_categorical(y_train, 25)\n",
        "y_test = keras.utils.to_categorical(y_test, 25)"
      ],
      "execution_count": 0,
      "outputs": [
        {
          "output_type": "stream",
          "text": [
            "Using TensorFlow backend.\n"
          ],
          "name": "stderr"
        }
      ]
    },
    {
      "cell_type": "markdown",
      "metadata": {
        "id": "DUQme6ePU0rC",
        "colab_type": "text"
      },
      "source": [
        "Let's peek at teh new shape of our out data:"
      ]
    },
    {
      "cell_type": "code",
      "metadata": {
        "id": "Uewxlbo3UFB7",
        "colab_type": "code",
        "outputId": "07c98df7-966e-4009-a899-aa1d6f2404e5",
        "colab": {
          "base_uri": "https://localhost:8080/",
          "height": 84
        }
      },
      "source": [
        "# let's quickly check the dimensions of our data\n",
        "print(\"training input data - \", X_train.shape)\n",
        "print(\"testing input data - \", X_test.shape)\n",
        "\n",
        "print(\"training output data - \", y_train.shape)\n",
        "print(\"testing output data - \", y_test.shape)"
      ],
      "execution_count": 0,
      "outputs": [
        {
          "output_type": "stream",
          "text": [
            "training input data -  (27701, 28, 28, 1)\n",
            "testing input data -  (6926, 28, 28, 1)\n",
            "training output data -  (27701, 25)\n",
            "testing output data -  (6926, 25)\n"
          ],
          "name": "stdout"
        }
      ]
    },
    {
      "cell_type": "markdown",
      "metadata": {
        "id": "CK-26dugVJU-",
        "colab_type": "text"
      },
      "source": [
        "Ok but what does it actually look like now:\n",
        "\n",
        "Print out the first 10 outputs:\n",
        "```python\n",
        "print(y_train[:10])\n",
        "```"
      ]
    },
    {
      "cell_type": "code",
      "metadata": {
        "id": "2qBGK2WXVY0z",
        "colab_type": "code",
        "outputId": "8851c6e4-b7d8-40e8-f28a-7236fbe4a7e6",
        "colab": {
          "base_uri": "https://localhost:8080/",
          "height": 353
        }
      },
      "source": [
        "# [TASK] print out the first 10 output\n",
        "print(y_train[:10])\n",
        "\n",
        "\n"
      ],
      "execution_count": 0,
      "outputs": [
        {
          "output_type": "stream",
          "text": [
            "[[0. 0. 0. 0. 0. 0. 1. 0. 0. 0. 0. 0. 0. 0. 0. 0. 0. 0. 0. 0. 0. 0. 0. 0.\n",
            "  0.]\n",
            " [0. 0. 1. 0. 0. 0. 0. 0. 0. 0. 0. 0. 0. 0. 0. 0. 0. 0. 0. 0. 0. 0. 0. 0.\n",
            "  0.]\n",
            " [0. 0. 0. 0. 0. 0. 0. 0. 0. 0. 0. 0. 0. 0. 1. 0. 0. 0. 0. 0. 0. 0. 0. 0.\n",
            "  0.]\n",
            " [0. 0. 0. 0. 0. 1. 0. 0. 0. 0. 0. 0. 0. 0. 0. 0. 0. 0. 0. 0. 0. 0. 0. 0.\n",
            "  0.]\n",
            " [0. 0. 0. 0. 0. 0. 0. 0. 0. 0. 0. 0. 0. 0. 0. 0. 1. 0. 0. 0. 0. 0. 0. 0.\n",
            "  0.]\n",
            " [0. 0. 0. 0. 0. 0. 0. 1. 0. 0. 0. 0. 0. 0. 0. 0. 0. 0. 0. 0. 0. 0. 0. 0.\n",
            "  0.]\n",
            " [0. 0. 0. 0. 0. 0. 0. 0. 0. 0. 0. 0. 0. 0. 0. 0. 0. 0. 0. 0. 0. 0. 0. 0.\n",
            "  1.]\n",
            " [0. 0. 0. 0. 0. 0. 0. 0. 0. 0. 1. 0. 0. 0. 0. 0. 0. 0. 0. 0. 0. 0. 0. 0.\n",
            "  0.]\n",
            " [0. 0. 0. 0. 0. 0. 0. 0. 0. 0. 0. 0. 0. 0. 0. 0. 0. 0. 0. 0. 0. 1. 0. 0.\n",
            "  0.]\n",
            " [0. 0. 0. 1. 0. 0. 0. 0. 0. 0. 0. 0. 0. 0. 0. 0. 0. 0. 0. 0. 0. 0. 0. 0.\n",
            "  0.]]\n"
          ],
          "name": "stdout"
        }
      ]
    },
    {
      "cell_type": "markdown",
      "metadata": {
        "id": "HfgFp-ciVeM1",
        "colab_type": "text"
      },
      "source": [
        "### That might look ugly to us, but beautiful to our Convolutional Neural Network 😍"
      ]
    },
    {
      "cell_type": "markdown",
      "metadata": {
        "id": "17JJnAVskVFi",
        "colab_type": "text"
      },
      "source": [
        "# Time to build the Convolutional Neural Network!!!\n",
        "\n",
        "![alt text](https://storage.googleapis.com/random-assets/images/excited_pup.gif)\n",
        "\n",
        "What's not that exciting is that we are just going to copy and past the same CNN that is in the [keras github for solving the mnist handwriting problem](https://github.com/keras-team/keras/blob/master/examples/mnist_cnn.py). \n",
        "\n",
        "### This is pragmatic ML: find a model that does something similar and copy it!\n",
        "\n",
        "*machine learning is all about adapting to new patterns*\n",
        "\n",
        "here's teh code to build our model:\n",
        "\n",
        "\n",
        "```python\n",
        "# build new Convolutional Neural Network!\n",
        "\n",
        "#import the nessasary keras modules\n",
        "from keras.models import Sequential\n",
        "from keras.layers import Dense, Dropout, Flatten\n",
        "from keras.layers import Conv2D, MaxPooling2D\n",
        "\n",
        "# start a new model\n",
        "model = Sequential()\n",
        "\n",
        "# create input layer (be sure to tell it the shape of data to expect)\n",
        "model.add(Conv2D(32, kernel_size=(3, 3),\n",
        "                 activation='relu',\n",
        "                 input_shape=(ORIGINAL WIDTH OF IMAGE, ORIGINAL HEIGHT OF IMAGE, 1)))\n",
        "\n",
        "# add soem more layers, why not!\n",
        "model.add(Conv2D(64, (3, 3), activation='relu'))\n",
        "model.add(MaxPooling2D(pool_size=(2, 2)))\n",
        "model.add(Dropout(0.25))\n",
        "model.add(Flatten())\n",
        "model.add(Dense(128, activation='relu'))\n",
        "model.add(Dropout(0.5))\n",
        "\n",
        "# you can change all of the previous stuff (except the input layer) and the following \"output\" layer\n",
        "# be sure to fill in the shape of our output layer\n",
        "model.add(Dense(THE WIDTH OF OUR ONE-HOT-ENCODED OUTPUT MATRIX, activation='softmax'))\n",
        "\n",
        "# compile our model\n",
        "model.compile(loss=keras.losses.categorical_crossentropy,\n",
        "              optimizer=keras.optimizers.Adam(),\n",
        "              metrics=['accuracy'])\n",
        "```"
      ]
    },
    {
      "cell_type": "code",
      "metadata": {
        "id": "Z3nJq5FhVX-l",
        "colab_type": "code",
        "outputId": "1ca9e94b-c056-4841-8f50-372090d3e047",
        "colab": {
          "base_uri": "https://localhost:8080/",
          "height": 339
        }
      },
      "source": [
        "# [TASK] build new Convolutional Neural Network!\n",
        "\n",
        "# import the nessasary keras modules\n",
        "from keras.models import Sequential\n",
        "from keras.layers import Dense, Dropout, Flatten\n",
        "from keras.layers import Conv2D, MaxPooling2D\n",
        "\n",
        "# start a new model\n",
        "model = Sequential() # blank slate how to start in keras\n",
        "\n",
        "# create input layer (be sure to tell it the shape of data to expect)\n",
        "model.add(Conv2D(32, kernel_size=(3, 3), # Conv2D is for a two deminsional for text is one d, 32 \n",
        "                 activation='relu', # equationsion\n",
        "                 input_shape=(28, 28, 1))) # input shape important 1 represent the channel greyscale = 1\n",
        "\n",
        "# add some more layers, be aware of overfitting\n",
        "model.add(Conv2D(64, (3,3), activation = \"relu\")) # add more filters\n",
        "model.add(MaxPooling2D(pool_size = (2, 2))) # reduces the size of the image, only 2 be 2 pixel, reduced the noise\n",
        "model.add(Dropout(0.25)) # randimly takes pixel out \n",
        "model.add(Flatten()) # \n",
        "model.add(Dense(128, activation = \"relu\"))\n",
        "model.add(Dropout(0.5))\n",
        "\n",
        "model.add(Dense(25, activation = \"softmax\")) # activation softmax, \n",
        "\n",
        "#complile out model\n",
        "model.compile(loss = keras.losses.categorical_crossentropy, optimizer = keras.optimizers.Adam(), metrics = [\"accuracy\"])\n",
        "\n",
        "\n",
        "\n",
        "\n",
        "\n",
        "\n",
        "\n",
        "\n",
        "\n",
        "\n",
        "\n",
        "\n",
        "\n"
      ],
      "execution_count": 0,
      "outputs": [
        {
          "output_type": "stream",
          "text": [
            "WARNING: Logging before flag parsing goes to stderr.\n",
            "W0625 19:04:46.385542 140357738321792 deprecation_wrapper.py:119] From /usr/local/lib/python3.6/dist-packages/keras/backend/tensorflow_backend.py:74: The name tf.get_default_graph is deprecated. Please use tf.compat.v1.get_default_graph instead.\n",
            "\n",
            "W0625 19:04:46.448626 140357738321792 deprecation_wrapper.py:119] From /usr/local/lib/python3.6/dist-packages/keras/backend/tensorflow_backend.py:517: The name tf.placeholder is deprecated. Please use tf.compat.v1.placeholder instead.\n",
            "\n",
            "W0625 19:04:46.457955 140357738321792 deprecation_wrapper.py:119] From /usr/local/lib/python3.6/dist-packages/keras/backend/tensorflow_backend.py:4138: The name tf.random_uniform is deprecated. Please use tf.random.uniform instead.\n",
            "\n",
            "W0625 19:04:46.532754 140357738321792 deprecation_wrapper.py:119] From /usr/local/lib/python3.6/dist-packages/keras/backend/tensorflow_backend.py:3976: The name tf.nn.max_pool is deprecated. Please use tf.nn.max_pool2d instead.\n",
            "\n",
            "W0625 19:04:46.536656 140357738321792 deprecation_wrapper.py:119] From /usr/local/lib/python3.6/dist-packages/keras/backend/tensorflow_backend.py:133: The name tf.placeholder_with_default is deprecated. Please use tf.compat.v1.placeholder_with_default instead.\n",
            "\n",
            "W0625 19:04:46.548893 140357738321792 deprecation.py:506] From /usr/local/lib/python3.6/dist-packages/keras/backend/tensorflow_backend.py:3445: calling dropout (from tensorflow.python.ops.nn_ops) with keep_prob is deprecated and will be removed in a future version.\n",
            "Instructions for updating:\n",
            "Please use `rate` instead of `keep_prob`. Rate should be set to `rate = 1 - keep_prob`.\n",
            "W0625 19:04:46.643661 140357738321792 deprecation_wrapper.py:119] From /usr/local/lib/python3.6/dist-packages/keras/optimizers.py:790: The name tf.train.Optimizer is deprecated. Please use tf.compat.v1.train.Optimizer instead.\n",
            "\n",
            "W0625 19:04:46.653902 140357738321792 deprecation_wrapper.py:119] From /usr/local/lib/python3.6/dist-packages/keras/backend/tensorflow_backend.py:3295: The name tf.log is deprecated. Please use tf.math.log instead.\n",
            "\n"
          ],
          "name": "stderr"
        }
      ]
    },
    {
      "cell_type": "markdown",
      "metadata": {
        "id": "2cTPEKdmZwk9",
        "colab_type": "text"
      },
      "source": [
        "##<font color=red> Don't worry about any warnings above</font> \n"
      ]
    },
    {
      "cell_type": "markdown",
      "metadata": {
        "id": "X5yZwlLqBWrw",
        "colab_type": "text"
      },
      "source": [
        "## Let's train our CNN\n",
        "Use the following code to train the CNN:\n",
        "\n",
        "```python\n",
        "# train our CNN on our training data for 5 epochs (cycles through our dataset)\n",
        "model.fit(X_train, y_train,\n",
        "          batch_size=128,\n",
        "          epochs=5,\n",
        "          verbose=1,\n",
        "          validation_data=(X_test, y_test))\n",
        "\n",
        "# print out the final accuracy scores of our CNN          \n",
        "score = model.evaluate(X_test, y_test, verbose=0)\n",
        "print('Test loss:', score[0])\n",
        "print('Test accuracy:', score[1])\n",
        "\n",
        "```"
      ]
    },
    {
      "cell_type": "code",
      "metadata": {
        "id": "nNgF87-ivC7u",
        "colab_type": "code",
        "outputId": "9a570200-ad86-4352-80fe-ee34d6a0aaba",
        "colab": {
          "base_uri": "https://localhost:8080/",
          "height": 306
        }
      },
      "source": [
        "# [TASK] run the training process\n",
        "model.fit(X_train, y_train,\n",
        "         batch_size = 128,\n",
        "         epochs = 5,\n",
        "         verbose = 1,\n",
        "         validation_data = (X_test, y_test)\n",
        "         )\n",
        "\n",
        "#print out the final accuracy scores of our CNN\n",
        "score = model.evaluate(X_test, y_test, verbose = 0)\n",
        "print('Test loss:', score[0])\n",
        "print('Test accuracy:', score[1])\n",
        "\n",
        "\n",
        "\n",
        "\n",
        "\n",
        "\n",
        "\n",
        "\n"
      ],
      "execution_count": 0,
      "outputs": [
        {
          "output_type": "stream",
          "text": [
            "W0625 19:07:51.037309 140357738321792 deprecation.py:323] From /usr/local/lib/python3.6/dist-packages/tensorflow/python/ops/math_grad.py:1250: add_dispatch_support.<locals>.wrapper (from tensorflow.python.ops.array_ops) is deprecated and will be removed in a future version.\n",
            "Instructions for updating:\n",
            "Use tf.where in 2.0, which has the same broadcast rule as np.where\n"
          ],
          "name": "stderr"
        },
        {
          "output_type": "stream",
          "text": [
            "Train on 27701 samples, validate on 6926 samples\n",
            "Epoch 1/5\n",
            "27701/27701 [==============================] - 75s 3ms/step - loss: 1.8095 - acc: 0.4496 - val_loss: 0.3617 - val_acc: 0.9196\n",
            "Epoch 2/5\n",
            "27701/27701 [==============================] - 74s 3ms/step - loss: 0.5107 - acc: 0.8329 - val_loss: 0.0796 - val_acc: 0.9903\n",
            "Epoch 3/5\n",
            "27701/27701 [==============================] - 74s 3ms/step - loss: 0.2714 - acc: 0.9085 - val_loss: 0.0226 - val_acc: 0.9999\n",
            "Epoch 4/5\n",
            "27701/27701 [==============================] - 74s 3ms/step - loss: 0.1767 - acc: 0.9417 - val_loss: 0.0082 - val_acc: 1.0000\n",
            "Epoch 5/5\n",
            "27701/27701 [==============================] - 74s 3ms/step - loss: 0.1387 - acc: 0.9531 - val_loss: 0.0043 - val_acc: 0.9999\n",
            "Test loss: 0.004291889925663223\n",
            "Test accuracy: 0.9998556165174703\n"
          ],
          "name": "stdout"
        }
      ]
    },
    {
      "cell_type": "markdown",
      "metadata": {
        "id": "70cA0_s-b9A9",
        "colab_type": "text"
      },
      "source": [
        "## Let's look at some predictions from our newly trained CNN:"
      ]
    },
    {
      "cell_type": "code",
      "metadata": {
        "id": "m7pz_R3gb8gH",
        "colab_type": "code",
        "outputId": "ba3612cc-b7eb-41c9-8494-3806b09f28cb",
        "colab": {
          "base_uri": "https://localhost:8080/",
          "height": 34
        }
      },
      "source": [
        "# fetch predictions for the first 10 TEST images (images not seen by CNN)\n",
        "model.predict_classes(X_test[:10])"
      ],
      "execution_count": 0,
      "outputs": [
        {
          "output_type": "execute_result",
          "data": {
            "text/plain": [
              "array([ 8,  2, 17,  7, 12, 12, 14, 16, 19, 14])"
            ]
          },
          "metadata": {
            "tags": []
          },
          "execution_count": 50
        }
      ]
    },
    {
      "cell_type": "code",
      "metadata": {
        "id": "wCoe1V2Ec6uo",
        "colab_type": "code",
        "outputId": "59933ce6-88ed-4b17-94b8-16e4d69faefd",
        "colab": {
          "base_uri": "https://localhost:8080/",
          "height": 34
        }
      },
      "source": [
        "# fetch predictions, convert them to letters\n",
        "predictions = [number_to_letter(l) for l in model.predict_classes(X_test[:10])]\n",
        "predictions"
      ],
      "execution_count": 0,
      "outputs": [
        {
          "output_type": "execute_result",
          "data": {
            "text/plain": [
              "['I', 'C', 'R', 'H', 'M', 'M', 'O', 'Q', 'T', 'O']"
            ]
          },
          "metadata": {
            "tags": []
          },
          "execution_count": 51
        }
      ]
    },
    {
      "cell_type": "markdown",
      "metadata": {
        "id": "7QUiulqEdslY",
        "colab_type": "text"
      },
      "source": [
        "Let's actually look at the predictions alongside the input images and see if they are correct:\n",
        "\n",
        "Use this chart to see if they are correct:\n",
        "\n",
        "![alt text](https://storage.googleapis.com/random-assets/images/american_sign_language.PNG)"
      ]
    },
    {
      "cell_type": "code",
      "metadata": {
        "id": "TrqhogV9dQvf",
        "colab_type": "code",
        "outputId": "5b8a205a-3ac6-493d-d300-f46762eb839f",
        "colab": {
          "base_uri": "https://localhost:8080/",
          "height": 1000
        }
      },
      "source": [
        "# show predictions with input images\n",
        "\n",
        "for i in range(10):\n",
        "  print(\"prediction = \", predictions[i])\n",
        "  plt.imshow(X_test[i,:,:,0])\n",
        "  plt.show()"
      ],
      "execution_count": 0,
      "outputs": [
        {
          "output_type": "stream",
          "text": [
            "prediction =  I\n"
          ],
          "name": "stdout"
        },
        {
          "output_type": "display_data",
          "data": {
            "image/png": "[encoded data removed]",
            "text/plain": [
              "<Figure size 432x288 with 1 Axes>"
            ]
          },
          "metadata": {
            "tags": []
          }
        },
        {
          "output_type": "stream",
          "text": [
            "prediction =  C\n"
          ],
          "name": "stdout"
        },
        {
          "output_type": "display_data",
          "data": {
            "image/png": "[encoded data removed]",
            "text/plain": [
              "<Figure size 432x288 with 1 Axes>"
            ]
          },
          "metadata": {
            "tags": []
          }
        },
        {
          "output_type": "stream",
          "text": [
            "prediction =  R\n"
          ],
          "name": "stdout"
        },
        {
          "output_type": "display_data",
          "data": {
            "image/png": "[encoded data removed]",
            "text/plain": [
              "<Figure size 432x288 with 1 Axes>"
            ]
          },
          "metadata": {
            "tags": []
          }
        },
        {
          "output_type": "stream",
          "text": [
            "prediction =  H\n"
          ],
          "name": "stdout"
        },
        {
          "output_type": "display_data",
          "data": {
            "image/png": "[encoded data removed]",
            "text/plain": [
              "<Figure size 432x288 with 1 Axes>"
            ]
          },
          "metadata": {
            "tags": []
          }
        },
        {
          "output_type": "stream",
          "text": [
            "prediction =  M\n"
          ],
          "name": "stdout"
        },
        {
          "output_type": "display_data",
          "data": {
            "image/png": "[encoded data removed]",
            "text/plain": [
              "<Figure size 432x288 with 1 Axes>"
            ]
          },
          "metadata": {
            "tags": []
          }
        },
        {
          "output_type": "stream",
          "text": [
            "prediction =  M\n"
          ],
          "name": "stdout"
        },
        {
          "output_type": "display_data",
          "data": {
            "image/png": "[encoded data removed]",
            "text/plain": [
              "<Figure size 432x288 with 1 Axes>"
            ]
          },
          "metadata": {
            "tags": []
          }
        },
        {
          "output_type": "stream",
          "text": [
            "prediction =  O\n"
          ],
          "name": "stdout"
        },
        {
          "output_type": "display_data",
          "data": {
            "image/png": "[encoded data removed]",
            "text/plain": [
              "<Figure size 432x288 with 1 Axes>"
            ]
          },
          "metadata": {
            "tags": []
          }
        },
        {
          "output_type": "stream",
          "text": [
            "prediction =  Q\n"
          ],
          "name": "stdout"
        },
        {
          "output_type": "display_data",
          "data": {
            "image/png": "[encoded data removed]",
            "text/plain": [
              "<Figure size 432x288 with 1 Axes>"
            ]
          },
          "metadata": {
            "tags": []
          }
        },
        {
          "output_type": "stream",
          "text": [
            "prediction =  T\n"
          ],
          "name": "stdout"
        },
        {
          "output_type": "display_data",
          "data": {
            "image/png": "[encoded data removed]",
            "text/plain": [
              "<Figure size 432x288 with 1 Axes>"
            ]
          },
          "metadata": {
            "tags": []
          }
        },
        {
          "output_type": "stream",
          "text": [
            "prediction =  O\n"
          ],
          "name": "stdout"
        },
        {
          "output_type": "display_data",
          "data": {
            "image/png": "[encoded data removed]",
            "text/plain": [
              "<Figure size 432x288 with 1 Axes>"
            ]
          },
          "metadata": {
            "tags": []
          }
        }
      ]
    },
    {
      "cell_type": "markdown",
      "metadata": {
        "id": "jP4LGVffeFZL",
        "colab_type": "text"
      },
      "source": [
        "# Congrats on building a sign language detecting Convolutional Neural Network ✋\n",
        "\n",
        "If you found that useful: feel free to let use know with a tweet:\n",
        "\n",
        "<a href=\"https://twitter.com/intent/tweet?text=Learning+about+interpreting+%23CNNs+using+the+SHAP+library+with+%23keras+on+%40GoogleColab+notebooks.+%0D%0AThanks+%40datalondon+%26+%40zackakil+for+the+awesome+meetup%21+%23datalondon+%23datascience+%23machinelearning+%0D%0Ahttps%3A%2F%2Frebrand.ly%2FCLDS-meetup-june25\"><img src=\"https://storage.googleapis.com/events_public_polong/CLDS_Meetups/CLDS_tweet_20190625.png\"></a>"
      ]
    },
    {
      "cell_type": "markdown",
      "metadata": {
        "id": "iHYCqPA_enma",
        "colab_type": "text"
      },
      "source": [
        "# But wait! There's more! Let's see what our CNN sees! 🧐\n",
        "\n",
        "There is a big push for more understanding around the kind of model that you have just built. [SHAP](https://github.com/slundberg/shap) is a tool that helps you do just that, by highlighting the areas of an image that the Convolutional Neural Network used most in making its' prediction.\n",
        "\n",
        "\n",
        "![alt text](https://storage.googleapis.com/random-assets/images/shap.png)"
      ]
    },
    {
      "cell_type": "markdown",
      "metadata": {
        "id": "7JNpmNuNfwiB",
        "colab_type": "text"
      },
      "source": [
        "## Let's run it on our CNN for the test data:\n",
        "\n",
        "But first we need to install it in Colab (becuase it is not a standard ML package)\n",
        "\n",
        "Install SHAP with teh following command:\n",
        "```bash\n",
        "!pip install shap \n",
        "```"
      ]
    },
    {
      "cell_type": "code",
      "metadata": {
        "id": "8VPoox8Kf-OY",
        "colab_type": "code",
        "outputId": "0ce6d0cd-5fb5-45e6-df68-ee2e8ab26bc4",
        "colab": {
          "base_uri": "https://localhost:8080/",
          "height": 689
        }
      },
      "source": [
        "# [TASK] install SHAP\n",
        "!pip install shap \n",
        "\n",
        "\n"
      ],
      "execution_count": 0,
      "outputs": [
        {
          "output_type": "stream",
          "text": [
            "Collecting shap\n",
            "\u001b[?25l  Downloading https://files.pythonhosted.org/packages/80/82/bab67238ac27d53214b12f6ed095493dc7b43be07c615b8b0dbb7da33157/shap-0.29.3.tar.gz (230kB)\n",
            "\u001b[K     |████████████████████████████████| 235kB 4.7MB/s \n",
            "\u001b[?25hRequirement already satisfied: numpy in /usr/local/lib/python3.6/dist-packages (from shap) (1.16.4)\n",
            "Requirement already satisfied: scipy in /usr/local/lib/python3.6/dist-packages (from shap) (1.3.0)\n",
            "Requirement already satisfied: scikit-learn in /usr/local/lib/python3.6/dist-packages (from shap) (0.21.2)\n",
            "Requirement already satisfied: matplotlib in /usr/local/lib/python3.6/dist-packages (from shap) (3.0.3)\n",
            "Requirement already satisfied: pandas in /usr/local/lib/python3.6/dist-packages (from shap) (0.24.2)\n",
            "Requirement already satisfied: tqdm>4.25.0 in /usr/local/lib/python3.6/dist-packages (from shap) (4.28.1)\n",
            "Requirement already satisfied: ipython in /usr/local/lib/python3.6/dist-packages (from shap) (5.5.0)\n",
            "Requirement already satisfied: scikit-image in /usr/local/lib/python3.6/dist-packages (from shap) (0.15.0)\n",
            "Requirement already satisfied: joblib>=0.11 in /usr/local/lib/python3.6/dist-packages (from scikit-learn->shap) (0.13.2)\n",
            "Requirement already satisfied: kiwisolver>=1.0.1 in /usr/local/lib/python3.6/dist-packages (from matplotlib->shap) (1.1.0)\n",
            "Requirement already satisfied: python-dateutil>=2.1 in /usr/local/lib/python3.6/dist-packages (from matplotlib->shap) (2.5.3)\n",
            "Requirement already satisfied: cycler>=0.10 in /usr/local/lib/python3.6/dist-packages (from matplotlib->shap) (0.10.0)\n",
            "Requirement already satisfied: pyparsing!=2.0.4,!=2.1.2,!=2.1.6,>=2.0.1 in /usr/local/lib/python3.6/dist-packages (from matplotlib->shap) (2.4.0)\n",
            "Requirement already satisfied: pytz>=2011k in /usr/local/lib/python3.6/dist-packages (from pandas->shap) (2018.9)\n",
            "Requirement already satisfied: pygments in /usr/local/lib/python3.6/dist-packages (from ipython->shap) (2.1.3)\n",
            "Requirement already satisfied: simplegeneric>0.8 in /usr/local/lib/python3.6/dist-packages (from ipython->shap) (0.8.1)\n",
            "Requirement already satisfied: setuptools>=18.5 in /usr/local/lib/python3.6/dist-packages (from ipython->shap) (41.0.1)\n",
            "Requirement already satisfied: pexpect; sys_platform != \"win32\" in /usr/local/lib/python3.6/dist-packages (from ipython->shap) (4.7.0)\n",
            "Requirement already satisfied: pickleshare in /usr/local/lib/python3.6/dist-packages (from ipython->shap) (0.7.5)\n",
            "Requirement already satisfied: prompt-toolkit<2.0.0,>=1.0.4 in /usr/local/lib/python3.6/dist-packages (from ipython->shap) (1.0.16)\n",
            "Requirement already satisfied: traitlets>=4.2 in /usr/local/lib/python3.6/dist-packages (from ipython->shap) (4.3.2)\n",
            "Requirement already satisfied: decorator in /usr/local/lib/python3.6/dist-packages (from ipython->shap) (4.4.0)\n",
            "Requirement already satisfied: imageio>=2.0.1 in /usr/local/lib/python3.6/dist-packages (from scikit-image->shap) (2.4.1)\n",
            "Requirement already satisfied: PyWavelets>=0.4.0 in /usr/local/lib/python3.6/dist-packages (from scikit-image->shap) (1.0.3)\n",
            "Requirement already satisfied: pillow>=4.3.0 in /usr/local/lib/python3.6/dist-packages (from scikit-image->shap) (4.3.0)\n",
            "Requirement already satisfied: networkx>=2.0 in /usr/local/lib/python3.6/dist-packages (from scikit-image->shap) (2.3)\n",
            "Requirement already satisfied: six>=1.5 in /usr/local/lib/python3.6/dist-packages (from python-dateutil>=2.1->matplotlib->shap) (1.12.0)\n",
            "Requirement already satisfied: ptyprocess>=0.5 in /usr/local/lib/python3.6/dist-packages (from pexpect; sys_platform != \"win32\"->ipython->shap) (0.6.0)\n",
            "Requirement already satisfied: wcwidth in /usr/local/lib/python3.6/dist-packages (from prompt-toolkit<2.0.0,>=1.0.4->ipython->shap) (0.1.7)\n",
            "Requirement already satisfied: ipython-genutils in /usr/local/lib/python3.6/dist-packages (from traitlets>=4.2->ipython->shap) (0.2.0)\n",
            "Requirement already satisfied: olefile in /usr/local/lib/python3.6/dist-packages (from pillow>=4.3.0->scikit-image->shap) (0.46)\n",
            "Building wheels for collected packages: shap\n",
            "  Building wheel for shap (setup.py) ... \u001b[?25l\u001b[?25hdone\n",
            "  Stored in directory: /root/.cache/pip/wheels/00/20/87/d199e4d7397997f5494e4098104f91313ac8120753bee7b032\n",
            "Successfully built shap\n",
            "Installing collected packages: shap\n",
            "Successfully installed shap-0.29.3\n"
          ],
          "name": "stdout"
        }
      ]
    },
    {
      "cell_type": "markdown",
      "metadata": {
        "id": "z30II1PygYPO",
        "colab_type": "text"
      },
      "source": [
        "## We'll cut to the chase becuase it's currently abit fiddely to use\n",
        "\n",
        "straight from the [SHAP documentation](https://github.com/slundberg/shap):\n",
        "\n",
        "---\n",
        "*Predictions for two input images are explained in the plot [below]. Red pixels represent positive SHAP values that increase the probability of the class, while blue pixels represent negative SHAP values the reduce the probability of the class. By using ranked_outputs=2 we explain only the two most likely classes for each input (this spares us from explaining all [25] classes).*\n",
        "\n",
        "---\n",
        "Run the code below to see why the CNN made it's predictions:\n",
        "\n"
      ]
    },
    {
      "cell_type": "code",
      "metadata": {
        "id": "xxGzZh4-dkpz",
        "colab_type": "code",
        "outputId": "88640d78-dc2b-4bb1-f541-a288ab1c8983",
        "colab": {
          "base_uri": "https://localhost:8080/",
          "height": 1000
        }
      },
      "source": [
        "import shap\n",
        "import keras.backend as K\n",
        "\n",
        "# what data do we want to understand [feel free to change this]\n",
        "data_to_explain = X_test[:10]\n",
        "\n",
        "# tell SHAP what layer in our CNN to look at for it's analysis \n",
        "# [you can play with the number to see different parts of the CNN]\n",
        "layer_to_explain = model.layers[1].input\n",
        "\n",
        "# analyse 300 examples to work out how varied the signal in the CNN gets\n",
        "# \n",
        "sess = K.get_session().run(layer_to_explain, {model.layers[0].input: X_train[:300]})\n",
        "explainer = shap.GradientExplainer( (layer_to_explain, model.layers[-1].output), sess)\n",
        "\n",
        "# analyse the data we want to explain\n",
        "sess2 = K.get_session().run(layer_to_explain, {model.layers[0].input: data_to_explain })\n",
        "shap_values, indexes = explainer.shap_values(sess2, ranked_outputs=2)\n",
        "\n",
        "# view the results\n",
        "shap.image_plot(shap_values,  data_to_explain,  np.vectorize(number_to_letter)(indexes))"
      ],
      "execution_count": 0,
      "outputs": [
        {
          "output_type": "display_data",
          "data": {
            "image/png": "[encoded data removed]",
            "text/plain": [
              "<Figure size 648x1980 with 31 Axes>"
            ]
          },
          "metadata": {
            "tags": []
          }
        }
      ]
    },
    {
      "cell_type": "code",
      "metadata": {
        "id": "jgJybRggGSsT",
        "colab_type": "code",
        "colab": {}
      },
      "source": [
        ""
      ],
      "execution_count": 0,
      "outputs": []
    },
    {
      "cell_type": "markdown",
      "metadata": {
        "id": "2CAy6Fegigt8",
        "colab_type": "text"
      },
      "source": [
        "# There you go!, You've built a CNN, and explained it's predictions!! 🏁\n",
        "\n",
        "\n",
        "Don't forget to tweet at us if you found this useful:\n",
        "\n",
        "<a href=\"https://twitter.com/intent/tweet?text=Learning+about+interpreting+%23CNNs+using+the+SHAP+library+with+%23keras+on+%40GoogleColab+notebooks.+%0D%0AThanks+%40datalondon+%26+%40zackakil+for+the+awesome+meetup%21+%23datalondon+%23datascience+%23machinelearning+%0D%0Ahttps%3A%2F%2Frebrand.ly%2FCLDS-meetup-june25\"><img src=\"https://storage.googleapis.com/events_public_polong/CLDS_Meetups/CLDS_tweet_20190625.png\"></a>"
      ]
    },
    {
      "cell_type": "code",
      "metadata": {
        "id": "E4DxzkwI92u-",
        "colab_type": "code",
        "colab": {}
      },
      "source": [
        ""
      ],
      "execution_count": 0,
      "outputs": []
    }
  ]
}